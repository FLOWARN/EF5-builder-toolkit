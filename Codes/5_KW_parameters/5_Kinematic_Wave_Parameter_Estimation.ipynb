{
 "cells": [
  {
   "cell_type": "markdown",
   "metadata": {
    "id": "S0o9zs5t-Rb3"
   },
   "source": [
    "# Kinematic Wave Parameter Estimation"
   ]
  },
  {
   "cell_type": "markdown",
   "metadata": {
    "id": "eRSUfDAF-Rb5"
   },
   "source": [
    "## Requirements\n",
    "\n",
    "This module uses information from the USGS stations over the CONUS to generate a statistical model for estimating the kinematic wave alpha and beta parameters for a given grid. The already trained model is provided here.\n",
    "\n",
    "This model requires basin averaged estimates of the following variables:\n",
    "* Mean annual temperature (degrees C)\n",
    "* Mean annual precipitation (in)\n",
    "* Drainage area (km²) - basin.area.tif file from the average basin step\n",
    "\n",
    "\n",
    "And the pixel by pixel variable:\n",
    "* Relief ratio\n",
    "\n",
    "### Comments\n",
    "\n",
    "* Depending on your Sklearn version, it may be necessary to re-run the model training to maintain compatibility (EF5-KW-Modeling-master script).\n",
    "* The raster nodata value is assumed to be -9999"
   ]
  },
  {
   "cell_type": "code",
   "execution_count": 3,
   "metadata": {
    "id": "HpU7OB0F-Rb6"
   },
   "outputs": [],
   "source": [
    "from ef5_kw_estimate import ReadGrid, WriteGrid\n",
    "import numpy as np\n",
    "import pickle\n",
    "from sklearn.impute import SimpleImputer\n",
    "import rasterio\n"
   ]
  },
  {
   "cell_type": "markdown",
   "metadata": {
    "id": "aYvtKGq_-Rb7"
   },
   "source": [
    "## Read in the input grids"
   ]
  },
  {
   "cell_type": "code",
   "execution_count": 4,
   "metadata": {
    "id": "MCDFb4cq-Rb8",
    "outputId": "730a2d51-34b8-4611-92ef-df117354019b"
   },
   "outputs": [
    {
     "name": "stderr",
     "output_type": "stream",
     "text": [
      "ERROR 1: PROJ: proj_create_from_database: datum not found\n",
      "ERROR 1: PROJ: proj_create_from_database: datum not found\n",
      "/var/folders/1z/2zs73sj958b3gtzwq06vr0280000gr/T/ipykernel_4064/3427228424.py:6: RuntimeWarning: invalid value encountered in log10\n",
      "  basinArea = np.log10(basinArea)\n"
     ]
    }
   ],
   "source": [
    "# keepInfo=True keeps the projection and spatial reference information for this grid...\n",
    "# to use when writing the output grids\n",
    "# We need log basin area, so compute that here\n",
    "basinArea = ReadGrid(\"input_grids/basin.area.tif\",keepInfo=True)\n",
    "\n",
    "basinArea = np.log10(basinArea)\n",
    "\n",
    "temp     = ReadGrid(\"input_grids/mean_temp.avg.tif\")\n",
    "precip   = ReadGrid(\"input_grids/mean_precip.avg.tif\")\n",
    "precip = precip/12\n",
    "rr       = ReadGrid(\"input_grids/relief.ratio.tif\")\n"
   ]
  },
  {
   "cell_type": "code",
   "execution_count": 5,
   "metadata": {
    "id": "d6p3zgPK-Rb8",
    "outputId": "9f773c69-be7a-4d38-db6f-4b528e467ba3"
   },
   "outputs": [
    {
     "name": "stdout",
     "output_type": "stream",
     "text": [
      "Checking raster data...\n",
      "Max values: [  5.610286    29.254793   164.58334      0.19926934]\n",
      "Min values: [-8.584308e-02 -9.999000e+03 -9.999000e+03 -9.999000e+03]\n"
     ]
    }
   ],
   "source": [
    "print(\"Checking raster data...\")\n",
    "print(\"Max values:\", np.nanmax([basinArea, temp, precip, rr], axis=1))\n",
    "print(\"Min values:\", np.nanmin([basinArea, temp, precip, rr], axis=1))"
   ]
  },
  {
   "cell_type": "markdown",
   "metadata": {
    "id": "Hul2kCTx-Rb9"
   },
   "source": [
    "## Load the pickled models so we can run them on our data"
   ]
  },
  {
   "cell_type": "code",
   "execution_count": 6,
   "metadata": {
    "id": "sUEudphV-Rb9",
    "outputId": "f4d60efe-cb9a-42f8-be63-2791e1a55321"
   },
   "outputs": [
    {
     "name": "stderr",
     "output_type": "stream",
     "text": [
      "/Users/vrobledodelgado/anaconda3/envs/vrobledod/lib/python3.8/site-packages/sklearn/base.py:310: UserWarning: Trying to unpickle estimator RobustScaler from version 1.5.2 when using version 0.24.2. This might lead to breaking code or invalid results. Use at your own risk.\n",
      "  warnings.warn(\n",
      "/Users/vrobledodelgado/anaconda3/envs/vrobledod/lib/python3.8/site-packages/sklearn/base.py:310: UserWarning: Trying to unpickle estimator SVR from version 1.5.2 when using version 0.24.2. This might lead to breaking code or invalid results. Use at your own risk.\n",
      "  warnings.warn(\n"
     ]
    }
   ],
   "source": [
    "scaler = pickle.load(open(\"scaler.p\", \"rb\"), encoding='latin1')\n",
    "alphamod = pickle.load(open(\"alpha_model.p\", \"rb\"), encoding='latin1')\n",
    "betamod = pickle.load(open(\"beta_model.p\", \"rb\"), encoding='latin1')\n"
   ]
  },
  {
   "cell_type": "markdown",
   "metadata": {
    "id": "hv9I7jAy-Rb9"
   },
   "source": [
    "## Run the models to estimate alpha & beta"
   ]
  },
  {
   "cell_type": "code",
   "execution_count": 7,
   "metadata": {},
   "outputs": [
    {
     "name": "stdout",
     "output_type": "stream",
     "text": [
      "Transforming to scaled parameter space\n"
     ]
    }
   ],
   "source": [
    "print(\"Transforming to scaled parameter space\")\n",
    "pred_real = scaler.transform(np.column_stack((basinArea, temp, precip, rr)))\n"
   ]
  },
  {
   "cell_type": "code",
   "execution_count": 8,
   "metadata": {},
   "outputs": [
    {
     "name": "stdout",
     "output_type": "stream",
     "text": [
      "Computing alpha\n"
     ]
    },
    {
     "data": {
      "text/plain": [
       "(1110510,)"
      ]
     },
     "execution_count": 8,
     "metadata": {},
     "output_type": "execute_result"
    }
   ],
   "source": [
    "print(\"Computing alpha\")\n",
    "alpha = alphamod.predict(pred_real)\n",
    "alpha = np.power(10.0, alpha)\n",
    "alpha.shape"
   ]
  },
  {
   "cell_type": "code",
   "execution_count": 9,
   "metadata": {
    "id": "-6OcR4DF-Rb-"
   },
   "outputs": [
    {
     "name": "stdout",
     "output_type": "stream",
     "text": [
      "Computing beta\n"
     ]
    }
   ],
   "source": [
    "print(\"Computing beta\")\n",
    "beta = betamod.predict(pred_real)\n"
   ]
  },
  {
   "cell_type": "code",
   "execution_count": 10,
   "metadata": {},
   "outputs": [],
   "source": [
    "# Since the model extrapolates, we do a trick here to bound the minimum beta to 0.\n",
    "bad = np.where(beta < 0.0)\n",
    "beta[bad] = np.exp(beta[bad] * 10.0)\n",
    "\n",
    "with rasterio.open(\"input_grids/FAC_ghana1km.tif\") as src: #Change this to the appropriate FAC grid for your region\n",
    "    fam = src.read(1)\n",
    "# FAC grid is used to mask out areas that are not suitable for the model\n",
    "mask = fam > 7 #is the minimum value in the FAC grid for this resolution, this parameter can change for different pixel resolutions\n",
    "mask=np.reshape(mask,(1, -1))[:][0]\n",
    "alpha[np.where(alpha>1000)]=np.nan\n",
    "alpha[~mask] = np.nan\n",
    "beta[~mask] = np.nan"
   ]
  },
  {
   "cell_type": "markdown",
   "metadata": {
    "id": "scOcJqHa-Rb-"
   },
   "source": [
    "## Write the new parameter grids to disk"
   ]
  },
  {
   "cell_type": "code",
   "execution_count": 12,
   "metadata": {},
   "outputs": [
    {
     "name": "stdout",
     "output_type": "stream",
     "text": [
      "Extracted Grid Info from input_grids/basin.area.tif: nx=914, ny=1215\n",
      "Successfully wrote ./outputs/kw_alpha.tif\n",
      "Successfully wrote ./outputs/kw_beta.tif\n"
     ]
    },
    {
     "name": "stderr",
     "output_type": "stream",
     "text": [
      "ERROR 1: PROJ: proj_create_from_database: datum not found\n",
      "ERROR 1: PROJ: proj_create_from_database: datum not found\n"
     ]
    }
   ],
   "source": [
    "import osgeo.osr as osr\n",
    "import osgeo.gdal as gdal\n",
    "from osgeo.gdalconst import *\n",
    "##if you did not use keepInfo in the first block, you have to use this.\n",
    "def GetGridInfo(gridIn):\n",
    "    dem = gdal.Open(gridIn, GA_ReadOnly)\n",
    "    if dem is None:\n",
    "        raise ValueError(f\"Error opening file: {gridIn}\")\n",
    "\n",
    "    gt = dem.GetGeoTransform()\n",
    "    proj = dem.GetProjection()\n",
    "    nx = dem.RasterXSize\n",
    "    ny = dem.RasterYSize\n",
    "    \n",
    "    print(f\"Extracted Grid Info from {gridIn}: nx={nx}, ny={ny}\")\n",
    "    return gt, proj, nx, ny\n",
    "\n",
    "gt, proj, nx, ny = GetGridInfo(\"input_grids/basin.area.tif\")\n",
    "\n",
    "def WriteGrid2(gridOutName, dataOut, gt, proj, nx, ny):\n",
    "    driver = gdal.GetDriverByName('GTiff')\n",
    "    dst_ds = driver.Create(gridOutName, nx, ny, 1, gdal.GDT_Float32)\n",
    "    \n",
    "    if dst_ds is None:\n",
    "        raise RuntimeError(\"Failed to create output file. Check the parameters.\")\n",
    "\n",
    "    dst_ds.SetGeoTransform(gt)\n",
    "    dst_ds.SetProjection(proj)\n",
    "    dst_ds.GetRasterBand(1).WriteArray(dataOut.reshape(ny, nx))\n",
    "    dst_ds.GetRasterBand(1).SetNoDataValue(-9999.0)\n",
    "    dst_ds = None\n",
    "    print(f\"Successfully wrote {gridOutName}\")\n",
    "\n",
    "# Call WriteGrid using metadata from `basinArea.tif`\n",
    "WriteGrid2(\"./outputs/kw_alpha.tif\", alpha, gt, proj, nx, ny)\n",
    "WriteGrid2(\"./outputs/kw_beta.tif\", beta, gt, proj, nx, ny)"
   ]
  },
  {
   "cell_type": "markdown",
   "metadata": {
    "id": "o80Jhhi7-Rb-"
   },
   "source": [
    "## Alpha0\n",
    "\n",
    "For alpha0 estimation, the inputs are:\n",
    "* Manning roughness coefficient\n",
    "* Slope (in m/m units), and flow accumulation.\n",
    "\n",
    "The slope is calculated using the DEM as an input, assuming geographic coordinates."
   ]
  },
  {
   "cell_type": "code",
   "execution_count": 14,
   "metadata": {
    "id": "cMreBYmI-Rb-"
   },
   "outputs": [],
   "source": [
    "import rasterio\n",
    "import numpy as np\n",
    "\n",
    "# Define a function to convert degrees to meters\n",
    "def degrees_to_meters(degrees_x, degrees_y, latitude):\n",
    "    meters_per_degree_longitude = 111320 * np.cos(np.radians(latitude))\n",
    "    meters_per_degree_latitude = 110574\n",
    "    meters_x = degrees_x * meters_per_degree_longitude\n",
    "    meters_y = degrees_y * meters_per_degree_latitude\n",
    "    return meters_x, meters_y\n",
    "\n",
    "# Read the DEM\n",
    "with rasterio.open(\"input_grids/DEM_ghana1km.tif\") as src:\n",
    "    dem = src.read(1)\n",
    "    transform = src.transform\n",
    "    profile = src.profile\n",
    "\n",
    "# Compute the pixel size in meters\n",
    "pixel_size_x = transform[0]\n",
    "pixel_size_y = -transform[4]\n",
    "\n",
    "# Compute the gradient in meters\n",
    "height, width = dem.shape\n",
    "lat_center = transform[5] + (height // 2) * transform[4]\n",
    "\n",
    "res_x_m, res_y_m = degrees_to_meters(pixel_size_x, pixel_size_y, lat_center)\n",
    "\n",
    "# Compute the gradient\n",
    "grad_y, grad_x = np.gradient(dem, res_y_m, res_x_m)\n",
    "\n",
    "# Compute the slope\n",
    "slope = np.sqrt(grad_x**2 + grad_y**2)\n",
    "\n",
    "# Write the slope to a new raster\n",
    "out_meta = profile.copy()\n",
    "out_meta.update({\"dtype\": \"float32\", \"nodata\": None})\n",
    "\n",
    "with rasterio.open(\"outputs/slope_m_m.tif\", \"w\", **out_meta) as dest:\n",
    "    dest.write(slope.astype(\"float32\"), 1)"
   ]
  },
  {
   "cell_type": "code",
   "execution_count": null,
   "metadata": {
    "id": "lNypfYEX-Rb-",
    "outputId": "6f0411bc-dabd-4a09-cf79-dc11a897aed0"
   },
   "outputs": [
    {
     "name": "stdout",
     "output_type": "stream",
     "text": [
      "(1215, 914)\n",
      "(1215, 914)\n"
     ]
    },
    {
     "name": "stderr",
     "output_type": "stream",
     "text": [
      "/var/folders/1z/2zs73sj958b3gtzwq06vr0280000gr/T/ipykernel_4064/2559801645.py:29: RuntimeWarning: divide by zero encountered in true_divide\n",
      "  alpha0[valid_mask] = (1.0 / (COEM[valid_mask] * np.sqrt(slope_grid[valid_mask]))) ** (3 / 5)\n"
     ]
    }
   ],
   "source": [
    "import numpy as np\n",
    "import rasterio\n",
    "from rasterio.transform import Affine\n",
    "from rasterio.crs import CRS\n",
    "\n",
    "# Read the manning coefficient change this name to the appropriate manning coefficient grid for your region\n",
    "with rasterio.open(\"input_grids/manning_n_1km.tif\") as src:\n",
    "    manning = src.read(1)\n",
    "    transform = src.transform\n",
    "    crs = src.crs\n",
    "\n",
    "# Read the slope\n",
    "with rasterio.open(\"outputs/slope_m_m.tif\") as src:\n",
    "    slope_grid = src.read(1)\n",
    "\n",
    "# Read the flow accumulation\n",
    "with rasterio.open(\"input_grids/FAC_ghana1km.tif\") as src:\n",
    "    facc = src.read(1)\n",
    "\n",
    "\n",
    "# Compute the Chezy coefficient\n",
    "COEM = 1.0 / manning\n",
    "print(manning.shape)\n",
    "\n",
    "# Compute the alpha0\n",
    "alpha0 = np.zeros_like(facc, dtype=np.float32)\n",
    "valid_mask = facc >= 0\n",
    "print(facc.shape)\n",
    "alpha0[valid_mask] = (1.0 / (COEM[valid_mask] * np.sqrt(slope_grid[valid_mask]))) ** (3 / 5)\n",
    "\n",
    "# Clip the alpha0 values to a maximum of 1000\n",
    "max_valid = alpha0[alpha0 < 1000].max()\n",
    "alpha0[alpha0 >= 1000] = max_valid\n",
    "\n",
    "# Write the alpha0 to a new raster\n",
    "alpha0_grid = np.full_like(facc, np.nan, dtype=np.float32)\n",
    "alpha0_grid[valid_mask] = alpha0[valid_mask]\n",
    "\n",
    "output_meta = {\n",
    "    'driver': 'GTiff',\n",
    "    'height': alpha0_grid.shape[0],\n",
    "    'width': alpha0_grid.shape[1],\n",
    "    'count': 1,\n",
    "    'dtype': 'float32',\n",
    "    'crs': crs,\n",
    "    'transform': transform\n",
    "}\n",
    "\n",
    "with rasterio.open('outputs/kw_alpha0.tif', 'w', **output_meta) as dst:\n",
    "    dst.write(alpha0_grid, 1)"
   ]
  },
  {
   "cell_type": "code",
   "execution_count": null,
   "metadata": {},
   "outputs": [],
   "source": []
  }
 ],
 "metadata": {
  "colab": {
   "provenance": []
  },
  "kernelspec": {
   "display_name": "vrobledod",
   "language": "python",
   "name": "python3"
  },
  "language_info": {
   "codemirror_mode": {
    "name": "ipython",
    "version": 3
   },
   "file_extension": ".py",
   "mimetype": "text/x-python",
   "name": "python",
   "nbconvert_exporter": "python",
   "pygments_lexer": "ipython3",
   "version": "3.8.10"
  }
 },
 "nbformat": 4,
 "nbformat_minor": 4
}
